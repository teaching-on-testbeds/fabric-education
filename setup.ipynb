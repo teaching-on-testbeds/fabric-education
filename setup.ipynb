{
 "cells": [
  {
   "cell_type": "markdown",
   "id": "21f08a70-67e2-4621-bdd7-e10cb234d24f",
   "metadata": {},
   "source": [
    "## Dijkstra's shortest path algorithm\n",
    "\n",
    "In this notebook you will: \n",
    "\n",
    "-   Reserve resources for this experiment\n",
    "-   Configure your reserved resources\n",
    "-   Access your reserved resources over SSH\n",
    "-   Delete your FABRIC reservation (in case you finish early)"
   ]
  },
  {
   "cell_type": "markdown",
   "id": "28ed450c-ee03-4be1-bcd5-6a20d47bfd21",
   "metadata": {},
   "source": [
    "### Exercise: Reserve resources\n",
    "\n",
    "In this exercise, we will reserve resources on FABRIC for six hosts."
   ]
  },
  {
   "cell_type": "code",
   "execution_count": null,
   "id": "3d884758-b5b8-426c-af7c-86c95dc531d3",
   "metadata": {},
   "outputs": [],
   "source": [
    "from fabrictestbed_extensions.fablib.fablib import FablibManager as fablib_manager\n",
    "fablib = fablib_manager() \n",
    "conf = fablib.show_config()"
   ]
  },
  {
   "cell_type": "code",
   "execution_count": null,
   "id": "611bb586-518f-4b3d-b8f5-2c301a4e4eca",
   "metadata": {},
   "outputs": [],
   "source": [
    "!chmod 600 {fablib.get_bastion_key_filename()}\n",
    "!chmod 600 {fablib.get_default_slice_private_key_file()}"
   ]
  },
  {
   "cell_type": "code",
   "execution_count": null,
   "id": "9aa8bad4-87ec-424c-abec-b6adc127a2d1",
   "metadata": {},
   "outputs": [],
   "source": [
    "import os\n",
    "slice_name=\"dijkstras-shortest-path-algo_\" + os.getenv('NB_USER')"
   ]
  },
  {
   "cell_type": "code",
   "execution_count": null,
   "id": "861b582a-3760-4251-a7a5-739940617cf9",
   "metadata": {},
   "outputs": [],
   "source": [
    "try:\n",
    "    slice = fablib.get_slice(slice_name)\n",
    "    print(\"You already have a slice by this name!\")\n",
    "    print(\"If you previously reserved resources, skip to the 'log in to resources' section.\")\n",
    "except:\n",
    "    print(\"You don't have a slice named %s yet.\" % slice_name)\n",
    "    print(\"Continue to the next step to make one.\")\n",
    "    slice = fablib.new_slice(name=slice_name)\n"
   ]
  },
  {
   "cell_type": "markdown",
   "id": "c52a84fd-8d14-49a2-9818-136d896e2f7d",
   "metadata": {},
   "source": [
    "Next, we’ll select a random FABRIC site for our experiment. We’ll make sure to get one that has sufficient capacity for the experiment we’re going to run.\n",
    "\n",
    "Once we find a suitable site, we’ll print details about available resources at this site."
   ]
  },
  {
   "cell_type": "code",
   "execution_count": null,
   "id": "2167d252-b499-482d-9967-f540bf93cc24",
   "metadata": {},
   "outputs": [],
   "source": [
    "exp_requires = {'core': 6*2, 'nic': 16}\n",
    "while True:\n",
    "    site_name = fablib.get_random_site()\n",
    "    if ( (fablib.resources.get_core_available(site_name) > 1.2*exp_requires['core']) and\n",
    "        (fablib.resources.get_component_available(site_name, 'SharedNIC-ConnectX-6') > 1.2**exp_requires['nic']) ):\n",
    "        break\n",
    "\n",
    "fablib.show_site(site_name)"
   ]
  },
  {
   "cell_type": "code",
   "execution_count": null,
   "id": "77dd0042-609d-4028-82e6-e5e648a8a9c4",
   "metadata": {},
   "outputs": [],
   "source": [
    "# this cell sets up the hosts\n",
    "node_names = [\"baran\",\"cerf\",\"hopper\",\"lovelace\",\"dijkstra\",\"knuth\"]\n",
    "for n in node_names:\n",
    "    slice.add_node(name=n, site=site_name, cores=2, ram=4, disk=10, image='default_ubuntu_20')"
   ]
  },
  {
   "cell_type": "code",
   "execution_count": null,
   "id": "6041c123-521e-4c08-bc79-4ad7f88e80c3",
   "metadata": {},
   "outputs": [],
   "source": [
    "# this cell sets up the network links\n",
    "nets = [\n",
    "    {\"name\": \"net0\",  \"nodes\": [\"cerf\",\"baran\"]},\n",
    "    {\"name\": \"net1\",  \"nodes\": [\"hopper\",\"cerf\"]},\n",
    "    {\"name\": \"net2\",  \"nodes\": [\"hopper\",\"lovelace\"]},\n",
    "    {\"name\": \"net3\",  \"nodes\": [\"lovelace\",\"dijkstra\"]},\n",
    "    {\"name\": \"net4\",  \"nodes\": [\"dijkstra\",\"baran\"]},\n",
    "    {\"name\": \"net5\",  \"nodes\": [\"hopper\",\"knuth\"]},\n",
    "    {\"name\": \"net6\",  \"nodes\": [\"knuth\",\"cerf\"]},\n",
    "    {\"name\": \"net7\",  \"nodes\": [\"lovelace\",\"knuth\"]}\n",
    "] \n",
    "\n",
    "for n in nets:\n",
    "    ifaces = [slice.get_node(node).add_component(model=\"NIC_Basic\", name=n[\"name\"]).get_interfaces()[0] for node in n['nodes'] ]\n",
    "    slice.add_l2network(name=n[\"name\"], type='L2Bridge', interfaces=ifaces)"
   ]
  },
  {
   "cell_type": "markdown",
   "id": "aa7ec492-ee17-4b30-b0b0-96bcfff46b60",
   "metadata": {},
   "source": [
    "The following cell submits our request to the FABRIC site. The output of this cell will update automatically as the status of our request changes.\n",
    "\n",
    "While it is being prepared, the “State” of the slice will appear as “Configuring”.\n",
    "When it is ready, the “State” of the slice will change to “StableOK”."
   ]
  },
  {
   "cell_type": "code",
   "execution_count": null,
   "id": "376397e6-3905-48fc-a94b-c4798a675bf6",
   "metadata": {},
   "outputs": [],
   "source": [
    "slice.submit()"
   ]
  },
  {
   "cell_type": "code",
   "execution_count": null,
   "id": "29767e9c-770b-45d0-8cbf-05c2ee07c866",
   "metadata": {},
   "outputs": [],
   "source": [
    "slice.wait_ssh(progress=True)"
   ]
  },
  {
   "cell_type": "markdown",
   "id": "da309d36-c649-4ca1-a6ee-cd1cbedfd511",
   "metadata": {},
   "source": [
    "### Exercise: Configure resources\n",
    "\n",
    "Next, we need to configure our resources - assign IP addresses to network interfaces, enable forwarding on hosts, add random delay on each network interface and install any necessary software.\n",
    "\n",
    "First, we’ll configure IP addresses and add the IP addresses and hostnames to the host files:"
   ]
  },
  {
   "cell_type": "code",
   "execution_count": null,
   "id": "9930e401-db81-4750-84ae-ee44f8012593",
   "metadata": {},
   "outputs": [],
   "source": [
    "from ipaddress import ip_address, IPv4Address, IPv4Network\n",
    "\n",
    "if_conf = {\n",
    "    \"cerf-net0-p1\":  {\"addr\": \"10.10.1.1\", \"subnet\": \"10.10.1.0/24\", \"hostname\": \"cerf\"},\n",
    "    \"baran-net0-p1\":  {\"addr\": \"10.10.1.2\", \"subnet\": \"10.10.1.0/24\", \"hostname\": \"baran\"},\n",
    "    \"hopper-net1-p1\":  {\"addr\": \"10.10.2.1\", \"subnet\": \"10.10.2.0/24\", \"hostname\": \"hopper\"},\n",
    "    \"cerf-net1-p1\":  {\"addr\": \"10.10.2.2\", \"subnet\": \"10.10.2.0/24\", \"hostname\": \"cerf\"},   \n",
    "    \"hopper-net2-p1\":  {\"addr\": \"10.10.3.1\", \"subnet\": \"10.10.3.0/24\", \"hostname\": \"hopper\"},\n",
    "    \"lovelace-net2-p1\":  {\"addr\": \"10.10.3.2\", \"subnet\": \"10.10.3.0/24\", \"hostname\": \"lovelace\"},\n",
    "    \"lovelace-net3-p1\":  {\"addr\": \"10.10.4.1\", \"subnet\": \"10.10.4.0/24\", \"hostname\": \"lovelace\"},\n",
    "    \"dijkstra-net3-p1\":  {\"addr\": \"10.10.4.2\", \"subnet\": \"10.10.4.0/24\", \"hostname\": \"dijkstra\"},\n",
    "    \"dijkstra-net4-p1\":  {\"addr\": \"10.10.5.1\", \"subnet\": \"10.10.5.0/24\", \"hostname\": \"dijkstra\"},\n",
    "    \"baran-net4-p1\":  {\"addr\": \"10.10.5.2\", \"subnet\": \"10.10.5.0/24\", \"hostname\": \"baran\"},\n",
    "    \"hopper-net5-p1\":  {\"addr\": \"10.10.6.1\", \"subnet\": \"10.10.6.0/24\", \"hostname\": \"hopper\"},\n",
    "    \"knuth-net5-p1\":  {\"addr\": \"10.10.6.2\", \"subnet\": \"10.10.6.0/24\", \"hostname\": \"knuth\"},\n",
    "    \"knuth-net6-p1\":  {\"addr\": \"10.10.7.1\", \"subnet\": \"10.10.7.0/24\", \"hostname\": \"knuth\"},\n",
    "    \"cerf-net6-p1\":  {\"addr\": \"10.10.7.2\", \"subnet\": \"10.10.7.0/24\", \"hostname\": \"cerf\"},\n",
    "    \"lovelace-net7-p1\":  {\"addr\": \"10.10.8.1\", \"subnet\": \"10.10.8.0/24\", \"hostname\": \"lovelace\"},\n",
    "    \"knuth-net7-p1\":  {\"addr\": \"10.10.8.2\", \"subnet\": \"10.10.8.0/24\", \"hostname\": \"knuth\"}\n",
    "}\n",
    "\n",
    "\n",
    "for iface in slice.get_interfaces():\n",
    "    if_name = iface.get_name()\n",
    "    hostname = if_conf[if_name]['hostname']\n",
    "    iface.ip_addr_add(addr=if_conf[if_name]['addr'], subnet=IPv4Network(if_conf[if_name]['subnet']))\n"
   ]
  },
  {
   "cell_type": "markdown",
   "id": "185b7aae-a2d2-47c5-bd86-a8d14ae8a18b",
   "metadata": {},
   "source": [
    "Let’s make sure that all of the network interfaces are brought up:"
   ]
  },
  {
   "cell_type": "code",
   "execution_count": null,
   "id": "66722433-0887-4cb7-a41e-1d297dd13cdc",
   "metadata": {},
   "outputs": [],
   "source": [
    "for iface in slice.get_interfaces():\n",
    "    iface.ip_link_up()"
   ]
  },
  {
   "cell_type": "markdown",
   "id": "1f6e6bf6-054b-4e1e-a3bf-03ee54f97325",
   "metadata": {},
   "source": [
    "And, we’ll install net-tools package to access networking utilities such as ifconfig and route commands. We also need mtr package to combine the functionality of the 'traceroute' and 'ping' in a single network diagnostic tool. We shall enable IPv4 forwarding on all the hosts:\n"
   ]
  },
  {
   "cell_type": "code",
   "execution_count": null,
   "id": "6b949d69-7e73-4ed0-b63d-2b3c7367786b",
   "metadata": {},
   "outputs": [],
   "source": [
    "for n in [\"baran\",\"cerf\",\"hopper\",\"lovelace\",\"dijkstra\",\"knuth\"]:\n",
    "    slice.get_node(name=n).execute(\"sudo apt-get update; sudo apt-get -y install mtr; sudo apt -y install net-tools\", quiet=True)\n",
    "    slice.get_node(name=n).execute(\"sudo sysctl -w net.ipv4.ip_forward=1\")"
   ]
  },
  {
   "cell_type": "markdown",
   "id": "15b246ad-c575-43b1-b4a8-a4c80b6b83c9",
   "metadata": {},
   "source": [
    "Finally, apply random latency to each experiment interface:"
   ]
  },
  {
   "cell_type": "code",
   "execution_count": null,
   "id": "e68d732e-116d-43c8-9e91-bce187110cc4",
   "metadata": {},
   "outputs": [],
   "source": [
    "for iface in slice.get_interfaces():\n",
    "    dev_name = iface.get_device_name()\n",
    "    int_name = iface.get_name()\n",
    "    slice.get_node(name=int_name.split(\"-\")[0]).execute(f\"sudo tc qdisc replace dev {dev_name} root netem delay $((( RANDOM % 100 ) + 1 ))ms\")\n"
   ]
  },
  {
   "cell_type": "markdown",
   "id": "170cae86-e20e-4aac-8c1d-8d83b8d34459",
   "metadata": {},
   "source": [
    "### Exercise: Log in to resources\n",
    "Now, we are finally ready to log in to our resources over SSH! Run the following cells, and observe the table output - you will see an SSH command for each of the nodes in your topology."
   ]
  },
  {
   "cell_type": "code",
   "execution_count": null,
   "id": "73251cae-f529-4216-bf80-97b7dc460fd2",
   "metadata": {},
   "outputs": [],
   "source": [
    "import pandas as pd\n",
    "pd.set_option('display.max_colwidth', None)\n",
    "ssh_str = 'ssh -i ' + slice.get_slice_private_key_file() + \\\n",
    "    ' -J ' + fablib.get_bastion_username() + '@' + fablib.get_bastion_public_addr() + \\\n",
    "    ' -F /home/fabric/work/fabric_config/ssh_config '\n",
    "slice_info = [{'Name': n.get_name(), 'SSH command': ssh_str + n.get_username() + '@' + str(n.get_management_ip())} for n in slice.get_nodes()]\n",
    "pd.DataFrame(slice_info).set_index('Name')"
   ]
  },
  {
   "cell_type": "markdown",
   "id": "5d151f40-9fea-46fa-857f-397348b0158b",
   "metadata": {},
   "source": [
    "Now, you can open an SSH session on any of the nodes as follows:\n",
    "\n",
    "-   In Jupyter, from the menu bar, use File \\> New \\> Terminal to open a new terminal.\n",
    "-   Copy an SSH command from the table, and paste it into the terminal. (Note that each SSH command is a single line, even if the display wraps the text to a second line! When you copy and paste it, paste it all together.)"
   ]
  },
  {
   "cell_type": "markdown",
   "id": "ee3c47a7-21d1-48b3-9def-5b191e9566fd",
   "metadata": {},
   "source": [
    "You can repeat this process (open several terminals) to start a session on each host and the router. Each terminal session will have a tab in the Jupyter environment, so that you can easily switch between them.\n",
    "\n"
   ]
  },
  {
   "cell_type": "markdown",
   "id": "b029a58f-ab9f-4c29-9b3d-8a9ae095f85d",
   "metadata": {},
   "source": [
    "Now you can continue to Run Dijkstra's algorithm exercise on these host sessions."
   ]
  },
  {
   "cell_type": "markdown",
   "id": "51a31cbc-d665-469b-a540-c13bdc851061",
   "metadata": {},
   "source": [
    "### Delete Resources"
   ]
  },
  {
   "cell_type": "markdown",
   "id": "1603e855-b512-4a59-9ec8-a39ad63da50d",
   "metadata": {},
   "source": [
    "If you finished your experiment early, you should delete your slice! The following cell deletes all the resources in your slice, freeing them for other experimenters."
   ]
  },
  {
   "cell_type": "code",
   "execution_count": null,
   "id": "3d589d36-a997-4dc0-a5ea-217089bdc6f2",
   "metadata": {},
   "outputs": [],
   "source": [
    "slice.delete()"
   ]
  },
  {
   "cell_type": "code",
   "execution_count": null,
   "id": "d920c26b-3a9d-4188-bf1a-4820fc2e4952",
   "metadata": {},
   "outputs": [],
   "source": [
    "slice.show()"
   ]
  }
 ],
 "metadata": {
  "kernelspec": {
   "display_name": "Python 3 (ipykernel)",
   "language": "python",
   "name": "python3"
  },
  "language_info": {
   "codemirror_mode": {
    "name": "ipython",
    "version": 3
   },
   "file_extension": ".py",
   "mimetype": "text/x-python",
   "name": "python",
   "nbconvert_exporter": "python",
   "pygments_lexer": "ipython3",
   "version": "3.9.7"
  }
 },
 "nbformat": 4,
 "nbformat_minor": 5
}
