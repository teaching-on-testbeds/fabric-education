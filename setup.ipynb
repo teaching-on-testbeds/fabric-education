{
 "cells": [
  {
   "cell_type": "markdown",
   "id": "21f08a70-67e2-4621-bdd7-e10cb234d24f",
   "metadata": {},
   "source": [
    "## Designing Subnets\n",
    "\n",
    "In this notebook you will: \n",
    "\n",
    "-   Reserve resources for this experiment\n",
    "-   Configure your reserved resources\n",
    "-   Access your reserved resources over SSH\n",
    "-   Delete your FABRIC reservation (in case you finish early)"
   ]
  },
  {
   "cell_type": "markdown",
   "id": "28ed450c-ee03-4be1-bcd5-6a20d47bfd21",
   "metadata": {},
   "source": [
    "### Exercise: Reserve resources\n",
    "\n",
    "In this exercise, we will reserve resources on FABRIC: six hosts connected by a three routers."
   ]
  },
  {
   "cell_type": "code",
   "execution_count": null,
   "id": "3d884758-b5b8-426c-af7c-86c95dc531d3",
   "metadata": {},
   "outputs": [],
   "source": [
    "from fabrictestbed_extensions.fablib.fablib import FablibManager as fablib_manager\n",
    "fablib = fablib_manager() \n",
    "conf = fablib.show_config()"
   ]
  },
  {
   "cell_type": "code",
   "execution_count": null,
   "id": "611bb586-518f-4b3d-b8f5-2c301a4e4eca",
   "metadata": {},
   "outputs": [],
   "source": [
    "!chmod 600 {fablib.get_bastion_key_filename()}\n",
    "!chmod 600 {fablib.get_default_slice_private_key_file()}"
   ]
  },
  {
   "cell_type": "code",
   "execution_count": null,
   "id": "9aa8bad4-87ec-424c-abec-b6adc127a2d1",
   "metadata": {},
   "outputs": [],
   "source": [
    "import os\n",
    "slice_name=\"designing-subnets_\" + os.getenv('NB_USER')"
   ]
  },
  {
   "cell_type": "code",
   "execution_count": null,
   "id": "861b582a-3760-4251-a7a5-739940617cf9",
   "metadata": {},
   "outputs": [],
   "source": [
    "try:\n",
    "    slice = fablib.get_slice(slice_name)\n",
    "    print(\"You already have a slice by this name!\")\n",
    "    print(\"If you previously reserved resources, skip to the 'log in to resources' section.\")\n",
    "except:\n",
    "    print(\"You don't have a slice named %s yet.\" % slice_name)\n",
    "    print(\"Continue to the next step to make one.\")\n",
    "    slice = fablib.new_slice(name=slice_name)"
   ]
  },
  {
   "cell_type": "markdown",
   "id": "c52a84fd-8d14-49a2-9818-136d896e2f7d",
   "metadata": {},
   "source": [
    "Next, we’ll select a random FABRIC site for our experiment. We’ll make sure to get one that has sufficient capacity for the experiment we’re going to run.\n",
    "\n",
    "Once we find a suitable site, we’ll print details about available resources at this site."
   ]
  },
  {
   "cell_type": "code",
   "execution_count": null,
   "id": "2167d252-b499-482d-9967-f540bf93cc24",
   "metadata": {},
   "outputs": [],
   "source": [
    "exp_requires = {'core': 9*2, 'nic': 12}\n",
    "while True:\n",
    "    site_name = fablib.get_random_site()\n",
    "    if ( (fablib.resources.get_core_available(site_name) > 1.2*exp_requires['core']) and\n",
    "        (fablib.resources.get_component_available(site_name, 'SharedNIC-ConnectX-6') > 1.2**exp_requires['nic']) ):\n",
    "        break\n",
    "\n",
    "fablib.show_site(site_name)"
   ]
  },
  {
   "cell_type": "code",
   "execution_count": null,
   "id": "77dd0042-609d-4028-82e6-e5e648a8a9c4",
   "metadata": {},
   "outputs": [],
   "source": [
    "# this cell sets up the hosts and routers\n",
    "node_names = [\"romeo\", \"router-a\",\"juliet\",\"othello\",\"router-b\",\"desdemona\",\"hamlet\",\"router-c\",\"ophelia\"]\n",
    "for n in node_names:\n",
    "    slice.add_node(name=n, site=site_name, cores=2, ram=4, disk=10, image='default_ubuntu_20')"
   ]
  },
  {
   "cell_type": "code",
   "execution_count": null,
   "id": "6041c123-521e-4c08-bc79-4ad7f88e80c3",
   "metadata": {},
   "outputs": [],
   "source": [
    "# this cell sets up the network links\n",
    "nets = [\n",
    "    {\"name\": \"net0\",  \"nodes\": [\"router-a\",\"router-b\",\"router-c\"]},\n",
    "    {\"name\": \"net1\",  \"nodes\": [\"romeo\", \"router-a\",\"juliet\"]},\n",
    "    {\"name\": \"net2\",  \"nodes\": [\"othello\", \"router-b\",\"desdemona\"]},\n",
    "    {\"name\": \"net3\",  \"nodes\": [\"ophelia\", \"router-c\",\"hamlet\"]} \n",
    "] \n",
    "\n",
    "for n in nets:\n",
    "    ifaces = [slice.get_node(node).add_component(model=\"NIC_Basic\", name=n[\"name\"]).get_interfaces()[0] for node in n['nodes'] ]\n",
    "    slice.add_l2network(name=n[\"name\"], type='L2Bridge', interfaces=ifaces)"
   ]
  },
  {
   "cell_type": "markdown",
   "id": "aa7ec492-ee17-4b30-b0b0-96bcfff46b60",
   "metadata": {},
   "source": [
    "The following cell submits our request to the FABRIC site. The output of this cell will update automatically as the status of our request changes.\n",
    "\n",
    "While it is being prepared, the “State” of the slice will appear as “Configuring”.\n",
    "When it is ready, the “State” of the slice will change to “StableOK”."
   ]
  },
  {
   "cell_type": "code",
   "execution_count": null,
   "id": "376397e6-3905-48fc-a94b-c4798a675bf6",
   "metadata": {},
   "outputs": [],
   "source": [
    "slice.submit()"
   ]
  },
  {
   "cell_type": "code",
   "execution_count": null,
   "id": "29767e9c-770b-45d0-8cbf-05c2ee07c866",
   "metadata": {},
   "outputs": [],
   "source": [
    "slice.wait_ssh(progress=True)"
   ]
  },
  {
   "cell_type": "markdown",
   "id": "da309d36-c649-4ca1-a6ee-cd1cbedfd511",
   "metadata": {},
   "source": [
    "### Exercise: Configure resources\n",
    "\n",
    "Next, we need to configure our resources - assign IP addresses to network interfaces, enable forwarding on the routers, and install any necessary software.\n",
    "\n",
    "First, we’ll configure IP addresses and add the IP addresses and hostnames to the host files:"
   ]
  },
  {
   "cell_type": "code",
   "execution_count": null,
   "id": "9930e401-db81-4750-84ae-ee44f8012593",
   "metadata": {},
   "outputs": [],
   "source": [
    "from ipaddress import ip_address, IPv4Address, IPv4Network\n",
    "\n",
    "if_conf = {\n",
    "    \"router-a-net0-p1\":  {\"addr\": \"10.10.100.1\", \"subnet\": \"10.10.100.0/24\", \"hostname\": \"router-a\"},\n",
    "    \"router-b-net0-p1\":  {\"addr\": \"10.10.100.2\", \"subnet\": \"10.10.100.0/24\", \"hostname\": \"router-b\"},\n",
    "    \"router-c-net0-p1\":  {\"addr\": \"10.10.100.3\", \"subnet\": \"10.10.100.0/24\", \"hostname\": \"router-c\"}, \n",
    "    \"romeo-net1-p1\":  {\"addr\": \"0.0.0.0\", \"subnet\": \"0.0.0.0/24\", \"hostname\": \"romeo\"},\n",
    "    \"router-a-net1-p1\":  {\"addr\": \"0.0.0.0\", \"subnet\": \"0.0.0.0/24\", \"hostname\": \"router-a\"},\n",
    "    \"juliet-net1-p1\":  {\"addr\": \"0.0.0.0\", \"subnet\": \"0.0.0.0/24\", \"hostname\": \"juliet\"},\n",
    "    \"othello-net2-p1\":  {\"addr\": \"0.0.0.0\", \"subnet\": \"0.0.0.0/24\", \"hostname\": \"othello\"},\n",
    "    \"router-b-net2-p1\":  {\"addr\": \"0.0.0.0\", \"subnet\": \"0.0.0.0/24\", \"hostname\": \"router-b\"},\n",
    "    \"desdemona-net2-p1\":  {\"addr\": \"0.0.0.0\", \"subnet\": \"0.0.0.0/24\", \"hostname\": \"desdemona\"},\n",
    "    \"hamlet-net3-p1\":  {\"addr\": \"0.0.0.0\", \"subnet\": \"0.0.0.0/24\", \"hostname\": \"hamlet\"},\n",
    "    \"router-c-net3-p1\":  {\"addr\": \"0.0.0.0\", \"subnet\": \"0.0.0.0/24\", \"hostname\": \"router-c\"},\n",
    "    \"ophelia-net3-p1\":  {\"addr\": \"0.0.0.0\", \"subnet\": \"0.0.0.0/24\", \"hostname\": \"ophelia\"}\n",
    "}\n",
    "\n",
    "for iface in slice.get_interfaces():\n",
    "    if_name = iface.get_name()\n",
    "    hostname = if_conf[if_name]['hostname']\n",
    "    iface.ip_addr_add(addr=if_conf[if_name]['addr'], subnet=IPv4Network(if_conf[if_name]['subnet']))\n"
   ]
  },
  {
   "cell_type": "markdown",
   "id": "185b7aae-a2d2-47c5-bd86-a8d14ae8a18b",
   "metadata": {},
   "source": [
    "Let’s make sure that all of the network interfaces are brought up:"
   ]
  },
  {
   "cell_type": "code",
   "execution_count": null,
   "id": "66722433-0887-4cb7-a41e-1d297dd13cdc",
   "metadata": {},
   "outputs": [],
   "source": [
    "for iface in slice.get_interfaces():\n",
    "    iface.ip_link_up()"
   ]
  },
  {
   "cell_type": "markdown",
   "id": "1f6e6bf6-054b-4e1e-a3bf-03ee54f97325",
   "metadata": {},
   "source": [
    "And, we’ll enable IP forwarding on the router:"
   ]
  },
  {
   "cell_type": "code",
   "execution_count": null,
   "id": "6b949d69-7e73-4ed0-b63d-2b3c7367786b",
   "metadata": {},
   "outputs": [],
   "source": [
    "for n in ['router-a','router-b','router-c']:\n",
    "    slice.get_node(name=n).execute(\"sudo sysctl -w net.ipv4.ip_forward=1\")"
   ]
  },
  {
   "cell_type": "markdown",
   "id": "657b813e-bc15-4daa-bfa2-9db3766a1d66",
   "metadata": {},
   "source": [
    "We need to install net-tools package to access networking utilities such as ifconfig and route commands. We also need mtr package to combine the functionality of the 'traceroute' and 'ping' in a single network diagnostic tool. On all the hosts and routers run:"
   ]
  },
  {
   "cell_type": "code",
   "execution_count": null,
   "id": "5b273822-78fa-4fbe-81a4-7e9108ed6c9c",
   "metadata": {},
   "outputs": [],
   "source": [
    "for node in [\"romeo\", \"router-a\",\"juliet\",\"othello\",\"router-b\",\"desdemona\",\"hamlet\",\"router-c\",\"ophelia\"]:\n",
    "    slice.get_node(name=node).execute(\"sudo apt-get update; sudo apt-get -y install mtr; sudo apt -y install net-tools\", quiet=True)"
   ]
  },
  {
   "cell_type": "markdown",
   "id": "170cae86-e20e-4aac-8c1d-8d83b8d34459",
   "metadata": {},
   "source": [
    "### Exercise: Log in to resources\n",
    "Now, we are finally ready to log in to our resources over SSH! Run the following cells, and observe the table output - you will see an SSH command for each of the nodes in your topology."
   ]
  },
  {
   "cell_type": "code",
   "execution_count": null,
   "id": "73251cae-f529-4216-bf80-97b7dc460fd2",
   "metadata": {},
   "outputs": [],
   "source": [
    "import pandas as pd\n",
    "pd.set_option('display.max_colwidth', None)\n",
    "ssh_str = 'ssh -i ' + slice.get_slice_private_key_file() + \\\n",
    "    ' -J ' + fablib.get_bastion_username() + '@' + fablib.get_bastion_public_addr() + \\\n",
    "    ' -F /home/fabric/work/fabric_config/ssh_config '\n",
    "slice_info = [{'Name': n.get_name(), 'SSH command': ssh_str + n.get_username() + '@' + str(n.get_management_ip())} for n in slice.get_nodes()]\n",
    "pd.DataFrame(slice_info).set_index('Name')"
   ]
  },
  {
   "cell_type": "markdown",
   "id": "5d151f40-9fea-46fa-857f-397348b0158b",
   "metadata": {},
   "source": [
    "Now, you can open an SSH session on any of the nodes as follows:\n",
    "\n",
    "-   In Jupyter, from the menu bar, use File \\> New \\> Terminal to open a new terminal.\n",
    "-   Copy an SSH command from the table, and paste it into the terminal. (Note that each SSH command is a single line, even if the display wraps the text to a second line! When you copy and paste it, paste it all together.)"
   ]
  },
  {
   "cell_type": "markdown",
   "id": "ee3c47a7-21d1-48b3-9def-5b191e9566fd",
   "metadata": {},
   "source": [
    "You can repeat this process (open several terminals) to start a session on each host and the router. Each terminal session will have a tab in the Jupyter environment, so that you can easily switch between them.\n"
   ]
  },
  {
   "cell_type": "markdown",
   "id": "d50dfd9e-2dee-4d97-b6fb-e5f1674c4923",
   "metadata": {},
   "source": [
    "When you have logged in to each node, continue to design subnets challenge."
   ]
  },
  {
   "cell_type": "markdown",
   "id": "3cf45ca8-76a2-4463-a0d5-037899697184",
   "metadata": {},
   "source": [
    "### Delete resources"
   ]
  },
  {
   "cell_type": "markdown",
   "id": "d4de341b-7133-4d56-9f2f-0eecfd8ab2b6",
   "metadata": {},
   "source": [
    "If you finished your experiment early, you should delete your slice! The following cell deletes all the resources in your slice, freeing them for other experimenters."
   ]
  },
  {
   "cell_type": "code",
   "execution_count": null,
   "id": "46d11520-f340-4bda-94c4-624b7a6084d1",
   "metadata": {},
   "outputs": [],
   "source": [
    "slice.delete()"
   ]
  },
  {
   "cell_type": "code",
   "execution_count": null,
   "id": "34611a04-8941-4784-9b9a-27823caa411d",
   "metadata": {},
   "outputs": [],
   "source": [
    "slice.show()"
   ]
  }
 ],
 "metadata": {
  "kernelspec": {
   "display_name": "Python 3 (ipykernel)",
   "language": "python",
   "name": "python3"
  },
  "language_info": {
   "codemirror_mode": {
    "name": "ipython",
    "version": 3
   },
   "file_extension": ".py",
   "mimetype": "text/x-python",
   "name": "python",
   "nbconvert_exporter": "python",
   "pygments_lexer": "ipython3",
   "version": "3.9.7"
  }
 },
 "nbformat": 4,
 "nbformat_minor": 5
}
