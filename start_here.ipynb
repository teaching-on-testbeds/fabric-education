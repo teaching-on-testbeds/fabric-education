{
 "cells": [
  {
   "cell_type": "markdown",
   "metadata": {},
   "source": [
    "# TCP Congestion Control"
   ],
   "id": "965186c2-ba49-4f9a-9eb8-60e0fb5edb43"
  },
  {
   "cell_type": "markdown",
   "metadata": {},
   "source": [
    "In this notebook you will:\n",
    "\n",
    "-   Reserve resources for this experiment\n",
    "-   Configure your reserved resources\n",
    "-   Access your reserved resources over SSH\n",
    "-   Extend your FABRIC reservation (in case you need more time) or delete it (in case you finish early)\n",
    "\n",
    "And, after using the resources to [execute an experiment related to TCP congestion control](https://witestlab.poly.edu/blog/tcp-congestion-control-basics/):\n",
    "\n",
    "-   Retrieve files saved on a FABRIC resource\n",
    "-   Visualize the data retrieved\n",
    "\n",
    "**Prerequisites**: This material assumes you have already configured your FABRIC account following the instructions in [Hello, FABRIC](https://teaching-on-testbeds.github.io/hello-fabric/)."
   ],
   "id": "c1ed2c38-674e-4e3a-a1ee-ec3565ad0574"
  },
  {
   "cell_type": "markdown",
   "metadata": {},
   "source": [
    "### Configure environment"
   ],
   "id": "b4b16447-17b8-4cb0-8936-7b6a1d5eb303"
  },
  {
   "cell_type": "code",
   "execution_count": null,
   "metadata": {},
   "outputs": [],
   "source": [
    "from fabrictestbed_extensions.fablib.fablib import FablibManager as fablib_manager\n",
    "fablib = fablib_manager() \n",
    "conf = fablib.show_config()"
   ],
   "id": "8aa7904d-467d-4073-aa1e-0f697c412f1a"
  },
  {
   "cell_type": "markdown",
   "metadata": {},
   "source": [
    "### Define configuration for this experiment (two hosts and router in line topology)"
   ],
   "id": "cf2be61e-3904-41dd-9045-6a421d0e6e75"
  },
  {
   "cell_type": "code",
   "execution_count": null,
   "metadata": {},
   "outputs": [],
   "source": [
    "slice_name=\"tcp_congestion_control-\" + fablib.get_bastion_username()\n",
    "\n",
    "node_conf = [\n",
    " {'name': \"romeo\",   'cores': 2, 'ram': 4, 'disk': 10, 'image': 'default_ubuntu_22', 'packages': []}, \n",
    " {'name': \"juliet\",  'cores': 2, 'ram': 4, 'disk': 10, 'image': 'default_ubuntu_22', 'packages': []}, \n",
    " {'name': \"router\",  'cores': 2, 'ram': 4, 'disk': 10, 'image': 'default_ubuntu_22', 'packages': []}\n",
    "]\n",
    "net_conf = [\n",
    " {\"name\": \"net1\", \"subnet\": \"10.10.1.0/24\", \"nodes\": [{\"name\": \"romeo\",   \"addr\": \"10.10.1.100\"}, {\"name\": \"router\", \"addr\": \"10.10.1.1\"}]},\n",
    " {\"name\": \"net2\", \"subnet\": \"10.10.2.0/24\", \"nodes\": [{\"name\": \"juliet\",  \"addr\": \"10.10.2.100\"}, {\"name\": \"router\", \"addr\": \"10.10.2.1\"}]}\n",
    "]\n",
    "route_conf = [\n",
    " {\"addr\": \"10.10.2.0/24\", \"gw\": \"10.10.1.1\", \"nodes\": [\"romeo\"]},\n",
    " {\"addr\": \"10.10.1.0/24\", \"gw\": \"10.10.2.1\", \"nodes\": [\"juliet\"]}\n",
    "]\n",
    "exp_conf = {'cores': sum([ n['cores'] for n in node_conf]), 'nic': sum([len(n['nodes']) for n in net_conf]) }"
   ],
   "id": "a1152cb9-db44-4163-b4c7-7e5510e48aff"
  },
  {
   "cell_type": "markdown",
   "metadata": {},
   "source": [
    "### Reserve resources\n",
    "\n",
    "Now, we are ready to reserve resources!"
   ],
   "id": "13dde549-0662-4e76-8466-275aa0507be4"
  },
  {
   "cell_type": "markdown",
   "metadata": {},
   "source": [
    "First, make sure you don’t already have a slice with this name:"
   ],
   "id": "25139767-c4f8-4bfb-91d0-13b1c3207f26"
  },
  {
   "cell_type": "code",
   "execution_count": null,
   "metadata": {},
   "outputs": [],
   "source": [
    "try:\n",
    "    slice = fablib.get_slice(slice_name)\n",
    "    print(\"You already have a slice by this name!\")\n",
    "    print(\"If you previously reserved resources, skip to the 'log in to resources' section.\")\n",
    "except:\n",
    "    print(\"You don't have a slice named %s yet.\" % slice_name)\n",
    "    print(\"Continue to the next step to make one.\")\n",
    "    slice = fablib.new_slice(name=slice_name)"
   ],
   "id": "1acaacb5-6d95-4deb-a590-48c69a9a510e"
  },
  {
   "cell_type": "markdown",
   "metadata": {},
   "source": [
    "We will reserve resources for our experiment at the EDUKY site:"
   ],
   "id": "5237deb5-ce8e-42b8-b04c-a18678533d8a"
  },
  {
   "cell_type": "code",
   "execution_count": null,
   "metadata": {},
   "outputs": [],
   "source": [
    "site_name = 'EDUKY'\n",
    "fablib.show_site(site_name)"
   ],
   "id": "2199bbee-ce6f-4ba4-adeb-719801a2aca1"
  },
  {
   "cell_type": "markdown",
   "metadata": {},
   "source": [
    "Then we will add hosts and network segments:"
   ],
   "id": "969a3a72-02eb-43dc-8ccb-7a96bb6717c2"
  },
  {
   "cell_type": "code",
   "execution_count": null,
   "metadata": {},
   "outputs": [],
   "source": [
    "# this cell sets up the nodes\n",
    "for n in node_conf:\n",
    "    slice.add_node(name=n['name'], site=site_name, \n",
    "                   cores=n['cores'], \n",
    "                   ram=n['ram'], \n",
    "                   disk=n['disk'], \n",
    "                   image=n['image'])"
   ],
   "id": "b06d8bcb-cf06-4f90-a041-c06e712b03af"
  },
  {
   "cell_type": "code",
   "execution_count": null,
   "metadata": {},
   "outputs": [],
   "source": [
    "# this cell sets up the network segments\n",
    "for n in net_conf:\n",
    "    ifaces = [slice.get_node(node[\"name\"]).add_component(model=\"NIC_Basic\", \n",
    "                                                 name=n[\"name\"]).get_interfaces()[0] for node in n['nodes'] ]\n",
    "    slice.add_l2network(name=n[\"name\"], type='L2Bridge', interfaces=ifaces)"
   ],
   "id": "80fb9039-9e80-4656-adbb-da090b383a99"
  },
  {
   "cell_type": "markdown",
   "metadata": {},
   "source": [
    "The following cell submits our request to the FABRIC site. The output of this cell will update automatically as the status of our request changes.\n",
    "\n",
    "-   While it is being prepared, the “State” of the slice will appear as “Configuring”.\n",
    "-   When it is ready, the “State” of the slice will change to “StableOK”.\n",
    "\n",
    "You may prefer to walk away and come back in a few minutes (for simple slices) or a few tens of minutes (for more complicated slices with many resources)."
   ],
   "id": "407b60be-9c76-49d0-9875-050af744a8bf"
  },
  {
   "cell_type": "code",
   "execution_count": null,
   "metadata": {},
   "outputs": [],
   "source": [
    "slice.submit()"
   ],
   "id": "ed54d323-01ff-499c-a386-2d33af11dcfc"
  },
  {
   "cell_type": "code",
   "execution_count": null,
   "metadata": {},
   "outputs": [],
   "source": [
    "slice.get_state()\n",
    "slice.wait_ssh(progress=True)"
   ],
   "id": "80e55b60-d4bd-4497-a871-cdbbf7316572"
  },
  {
   "cell_type": "markdown",
   "metadata": {},
   "source": [
    "### Configure resources\n",
    "\n",
    "Next, we will configure the resources so they are ready to use."
   ],
   "id": "c903a0ff-19f2-4b55-a0e7-afb98075c7e3"
  },
  {
   "cell_type": "code",
   "execution_count": null,
   "metadata": {},
   "outputs": [],
   "source": [
    "slice = fablib.get_slice(name=slice_name)"
   ],
   "id": "3ce9f5e1-0949-4d82-b78c-5b3a2710ec79"
  },
  {
   "cell_type": "code",
   "execution_count": null,
   "metadata": {},
   "outputs": [],
   "source": [
    "# install packages\n",
    "# this will take a while and will run in background while you do other steps\n",
    "for n in node_conf:\n",
    "    if len(n['packages']):\n",
    "        node = slice.get_node(n['name'])\n",
    "        pkg = \" \".join(n['packages'])\n",
    "        node.execute_thread(\"sudo apt update; sudo DEBIAN_FRONTEND=noninteractive apt -y install %s\" % pkg)"
   ],
   "id": "dddcc956-d3cd-47d9-a3e5-96a8023ec8a9"
  },
  {
   "cell_type": "code",
   "execution_count": null,
   "metadata": {},
   "outputs": [],
   "source": [
    "# bring interfaces up and either assign an address (if there is one) or flush address\n",
    "from ipaddress import ip_address, IPv4Address, IPv4Network\n",
    "\n",
    "for net in net_conf:\n",
    "    for n in net['nodes']:\n",
    "        if_name = n['name'] + '-' + net['name'] + '-p1'\n",
    "        iface = slice.get_interface(if_name)\n",
    "        iface.ip_link_up()\n",
    "        if n['addr']:\n",
    "            iface.ip_addr_add(addr=n['addr'], subnet=IPv4Network(net['subnet']))\n",
    "        else:\n",
    "            iface.get_node().execute(\"sudo ip addr flush dev %s\"  % iface.get_device_name())"
   ],
   "id": "adea877a-6bbb-45eb-9aa5-7a7eb8fffa39"
  },
  {
   "cell_type": "code",
   "execution_count": null,
   "metadata": {},
   "outputs": [],
   "source": [
    "# make sure all interfaces are brought up\n",
    "for iface in slice.get_interfaces():\n",
    "    iface.ip_link_up()"
   ],
   "id": "cdccc8de-4c91-48fa-89d3-0795e11d5089"
  },
  {
   "cell_type": "code",
   "execution_count": null,
   "metadata": {},
   "outputs": [],
   "source": [
    "# prepare a \"hosts\" file that has names and addresses of every node\n",
    "hosts_txt = [ \"%s\\t%s\" % ( n['addr'], n['name'] ) for net in net_conf  for n in net['nodes'] if type(n) is dict and n['addr']]\n",
    "for n in slice.get_nodes():\n",
    "    for h in hosts_txt:\n",
    "        n.execute(\"echo %s | sudo tee -a /etc/hosts\" % h)"
   ],
   "id": "3cdb46ba-648d-442f-abbf-e6d4252eb176"
  },
  {
   "cell_type": "code",
   "execution_count": null,
   "metadata": {},
   "outputs": [],
   "source": [
    "# enable IPv4 forwarding on all nodes\n",
    "for n in slice.get_nodes():\n",
    "    n.execute(\"sudo sysctl -w net.ipv4.ip_forward=1\")"
   ],
   "id": "c26d79c0-c8ff-473a-9685-983ee56f5cab"
  },
  {
   "cell_type": "code",
   "execution_count": null,
   "metadata": {},
   "outputs": [],
   "source": [
    "# set up static routes\n",
    "for rt in route_conf:\n",
    "    for n in rt['nodes']:\n",
    "        slice.get_node(name=n).ip_route_add(subnet=IPv4Network(rt['addr']), gateway=rt['gw'])"
   ],
   "id": "1a31acec-4c45-47f9-953e-cf6311dc26c1"
  },
  {
   "cell_type": "code",
   "execution_count": null,
   "metadata": {},
   "outputs": [],
   "source": [
    "# turn off segmentation offload on interfaces\n",
    "for iface in slice.get_interfaces():\n",
    "    iface_name = iface.get_device_name()\n",
    "    n = iface.get_node()\n",
    "    offloads = [\"gro\", \"lro\", \"gso\", \"tso\"]\n",
    "    for offload in offloads:\n",
    "        n.execute(\"sudo ethtool -K %s %s off\" % (iface_name, offload))"
   ],
   "id": "75a7f12b-899a-44bf-b589-61bf1a265d85"
  },
  {
   "cell_type": "markdown",
   "metadata": {},
   "source": [
    "### Draw the network topology"
   ],
   "id": "ee8b78dc-dc9e-41a2-99ef-4fdaaf2be1ec"
  },
  {
   "cell_type": "markdown",
   "metadata": {},
   "source": [
    "The following cell will draw the network topology, for your reference. The interface name and addresses of each experiment interface will be shown on the drawing."
   ],
   "id": "c0040a12-529b-4569-9729-8447045da965"
  },
  {
   "cell_type": "code",
   "execution_count": null,
   "metadata": {},
   "outputs": [],
   "source": [
    "l2_nets = [(n.get_name(), {'color': 'lavender'}) for n in slice.get_l2networks() ]\n",
    "l3_nets = [(n.get_name(), {'color': 'pink'}) for n in slice.get_l3networks() ]\n",
    "hosts   =   [(n.get_name(), {'color': 'lightblue'}) for n in slice.get_nodes()]\n",
    "nodes = l2_nets + l3_nets + hosts\n",
    "ifaces = [iface.toDict() for iface in slice.get_interfaces()]\n",
    "edges = [(iface['network'], iface['node'], \n",
    "          {'label': iface['physical_dev'] + '\\n' + iface['ip_addr'] + '\\n' + iface['mac']}) for iface in ifaces]"
   ],
   "id": "c3b9ab71-e906-431f-9d23-c934a6906f66"
  },
  {
   "cell_type": "code",
   "execution_count": null,
   "metadata": {},
   "outputs": [],
   "source": [
    "import networkx as nx\n",
    "import matplotlib.pyplot as plt\n",
    "plt.figure(figsize=(len(nodes),len(nodes)))\n",
    "G = nx.Graph()\n",
    "G.add_nodes_from(nodes)\n",
    "G.add_edges_from(edges)\n",
    "pos = nx.spring_layout(G)\n",
    "nx.draw(G, pos, node_shape='s',  \n",
    "        node_color=[n[1]['color'] for n in nodes], \n",
    "        node_size=[len(n[0])*400 for n in nodes],  \n",
    "        with_labels=True);\n",
    "nx.draw_networkx_edge_labels(G,pos,\n",
    "                             edge_labels=nx.get_edge_attributes(G,'label'),\n",
    "                             font_color='gray',  font_size=8, rotate=False);"
   ],
   "id": "1fad57c2-1231-46a5-84c9-f41da463dd80"
  },
  {
   "cell_type": "markdown",
   "metadata": {},
   "source": [
    "### Log into resources"
   ],
   "id": "c0860358-86e7-4994-a03d-3a578bd1f0d9"
  },
  {
   "cell_type": "markdown",
   "metadata": {},
   "source": [
    "Now, we are finally ready to log in to our resources over SSH! Run the following cells, and observe the table output - you will see an SSH command for each of the resources in your topology."
   ],
   "id": "4dfbbb62-fee7-458b-8f00-01e687f1b31f"
  },
  {
   "cell_type": "code",
   "execution_count": null,
   "metadata": {},
   "outputs": [],
   "source": [
    "import pandas as pd\n",
    "pd.set_option('display.max_colwidth', None)\n",
    "slice_info = [{'Name': n.get_name(), 'SSH command': n.get_ssh_command()} for n in slice.get_nodes()]\n",
    "pd.DataFrame(slice_info).set_index('Name')"
   ],
   "id": "86eda2c3-3ae3-4c8a-910c-a49133487f50"
  },
  {
   "cell_type": "markdown",
   "metadata": {},
   "source": [
    "Now, you can open an SSH session on any of the resources as follows:\n",
    "\n",
    "-   in Jupyter, from the menu bar, use File \\> New \\> Terminal to open a new terminal.\n",
    "-   copy an SSH command from the table, and paste it into the terminal. (Note that each SSH command is a single line, even if the display wraps the text to a second line! When you copy and paste it, paste it all together.)\n",
    "\n",
    "You can repeat this process (open several terminals) to start a session on each resource. Each terminal session will have a tab in the Jupyter environment, so that you can easily switch between them."
   ],
   "id": "617bc44c-5e6f-4101-a480-1f480df02ed4"
  },
  {
   "cell_type": "markdown",
   "metadata": {},
   "source": [
    "### Run the experiment\n",
    "\n",
    "Now, you are ready to run the experiment! Follow the instructions in the [TCP congestion control](https://witestlab.poly.edu/blog/tcp-congestion-control-basics/) page to send TCP flows between the two hosts, and generate data about the congestion window and slow start threshold over time.\n",
    "\n",
    "When you have generated some data, you can use the cell below to transfer it from the sender host and visualize it here."
   ],
   "id": "e18451e8-85c2-4407-8f5a-f84c424e705b"
  },
  {
   "cell_type": "markdown",
   "metadata": {},
   "source": [
    "#### Exercise: visualization"
   ],
   "id": "d59883ed-b1c6-4c09-a58d-f4e316e59b37"
  },
  {
   "cell_type": "code",
   "execution_count": null,
   "metadata": {},
   "outputs": [],
   "source": [
    "import os\n",
    "slice.get_node(\"romeo\").download_file(os.path.join(os.getcwd() + \"/sender-ss.csv\"), \"sender-ss.csv\")"
   ],
   "id": "c6b6e6b5-2608-4816-9dfe-16faf964575c"
  },
  {
   "cell_type": "code",
   "execution_count": null,
   "metadata": {},
   "outputs": [],
   "source": [
    "import pandas as pd\n",
    "import matplotlib.pyplot as plt\n",
    "\n",
    "df = pd.read_csv(\"sender-ss.csv\", names=['time', 'sender', 'retx_unacked', 'retx_cum', 'cwnd', 'ssthresh'])\n",
    "\n",
    "# exclude the \"control\" flow\n",
    "s = df.groupby('sender').size()\n",
    "df_filtered = df[df.groupby(\"sender\")['sender'].transform('size') > 100]\n",
    "\n",
    "senders = df_filtered.sender.unique()\n",
    "\n",
    "time_min = df_filtered.time.min()\n",
    "cwnd_max = 1.1*df_filtered.cwnd.max()\n",
    "dfs = [df_filtered[df_filtered.sender==senders[i]] for i in range(3)]\n",
    "\n",
    "fig, axs = plt.subplots(len(senders), sharex=True, figsize=(12,8))\n",
    "fig.suptitle('CWND over time')\n",
    "for i in range(len(senders)):\n",
    "    if i==len(senders)-1:\n",
    "        axs[i].plot(dfs[i]['time']-time_min, dfs[i]['cwnd'], label=\"cwnd\")\n",
    "        axs[i].plot(dfs[i]['time']-time_min, dfs[i]['ssthresh'], label=\"ssthresh\")\n",
    "        axs[i].set_ylim([0,cwnd_max])\n",
    "        axs[i].set_xlabel(\"Time (s)\");\n",
    "    else:\n",
    "        axs[i].plot(dfs[i]['time']-time_min, dfs[i]['cwnd'])\n",
    "        axs[i].plot(dfs[i]['time']-time_min, dfs[i]['ssthresh'])\n",
    "        axs[i].set_ylim([0,cwnd_max])\n",
    "\n",
    "\n",
    "plt.tight_layout();\n",
    "fig.legend(loc='upper right', ncol=2);"
   ],
   "id": "2bb2a771-954c-4681-8180-6d3cb0079738"
  },
  {
   "cell_type": "markdown",
   "metadata": {},
   "source": [
    "#### Additional exercise: Transfer .pcap files from a FABRIC host\n",
    "\n",
    "After you have executed the TCP ECN exercise, you can retrieve the `romeo-tcp-ecn.pcap` and `juliet-tcp-ecn.pcap` files from the FABRIC hosts with the following commands:"
   ],
   "id": "c028db30-f4ee-4121-bfb2-0675d8a088aa"
  },
  {
   "cell_type": "code",
   "execution_count": null,
   "metadata": {},
   "outputs": [],
   "source": [
    "slice.get_node(\"romeo\").download_file(\"/home/fabric/work/romeo-tcp-ecn.pcap\", \"romeo-tcp-ecn.pcap\")\n",
    "slice.get_node(\"juliet\").download_file(\"/home/fabric/work/juliet-tcp-ecn.pcap\", \"juliet-tcp-ecn.pcap\")"
   ],
   "id": "15a3ca82-6e71-4a45-b8c2-f58fd8c00c36"
  },
  {
   "cell_type": "markdown",
   "metadata": {},
   "source": [
    "Then in the Jupyter environment, click on the folder icon in the file browser on the left to make sure that you are located in your “Jupyter home” directory.\n",
    "\n",
    "You should see the above .pcap files appear in the Jupyter file browser on the left. You can now download this file from the Jupyter environment to your own laptop to analyze them in Wireshark."
   ],
   "id": "411ec552-c29b-40bc-9524-9e365ef6145a"
  },
  {
   "cell_type": "markdown",
   "metadata": {},
   "source": [
    "### Delete your slice"
   ],
   "id": "038fa35b-a12e-4ceb-ae5f-cbdf6015aa9c"
  },
  {
   "cell_type": "markdown",
   "metadata": {},
   "source": [
    "When you finish your experiment, you should delete your slice! The following cells deletes all the resources in your slice, freeing them for other experimenters."
   ],
   "id": "880ab118-064e-4a6f-92a2-ad9d43e4fa21"
  },
  {
   "cell_type": "code",
   "execution_count": null,
   "metadata": {},
   "outputs": [],
   "source": [
    "slice = fablib.get_slice(name=slice_name)\n",
    "fablib.delete_slice(slice_name)"
   ],
   "id": "c513e58c-704d-4cf9-bdb5-8e1bd7ea81c7"
  },
  {
   "cell_type": "code",
   "execution_count": null,
   "metadata": {},
   "outputs": [],
   "source": [
    "# slice should end up in \"Dead\" state\n",
    "# re-run this cell until you see it in \"Dead\" state\n",
    "slice.update()\n",
    "_ = slice.show()"
   ],
   "id": "ed0a95e8-3f9b-4d41-91f0-09276b739a48"
  }
 ],
 "nbformat": 4,
 "nbformat_minor": 5,
 "metadata": {}
}
