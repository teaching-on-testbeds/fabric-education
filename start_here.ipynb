{
 "cells": [
  {
   "cell_type": "markdown",
   "metadata": {},
   "source": [
    "# Operation of a basic Ethernet switch or bridge"
   ],
   "id": "4e760bbc-0e3e-436e-829a-046733ffd6e8"
  },
  {
   "cell_type": "markdown",
   "metadata": {},
   "source": [
    "In this notebook you will:\n",
    "\n",
    "-   Reserve resources for this experiment\n",
    "-   Configure your reserved resources\n",
    "-   Access your reserved resources over SSH\n",
    "-   Extend your FABRIC reservation (in case you need more time) or delete it (in case you finish early)\n",
    "\n",
    "Then, you will use the resources to [execute an experiment related to an Ethernet switch or bridge](https://witestlab.poly.edu/blog/basic-ethernet-switch-operation/).\n",
    "\n",
    "**Prerequisites**: This material assumes you have already configured your FABRIC account following the instructions in [Hello, FABRIC](https://teaching-on-testbeds.github.io/hello-fabric/)."
   ],
   "id": "b0151472-dab5-4b8f-b2c1-d68e934ba9ff"
  },
  {
   "cell_type": "markdown",
   "metadata": {},
   "source": [
    "### Configure environment"
   ],
   "id": "c88b07e9-248b-4614-ad69-c024419b5106"
  },
  {
   "cell_type": "code",
   "execution_count": null,
   "metadata": {},
   "outputs": [],
   "source": [
    "from fabrictestbed_extensions.fablib.fablib import FablibManager as fablib_manager\n",
    "fablib = fablib_manager() \n",
    "conf = fablib.show_config()"
   ],
   "id": "bb67156b-c180-48fc-965e-1ff6683fd155"
  },
  {
   "cell_type": "markdown",
   "metadata": {},
   "source": [
    "### Define configuration for this experiment (four hosts and a bridge on a different server)"
   ],
   "id": "02faea81-0747-4b0a-92d0-5b3c1388a20c"
  },
  {
   "cell_type": "code",
   "execution_count": null,
   "metadata": {},
   "outputs": [],
   "source": [
    "slice_name=\"ethernet_bridge_switch-\" + fablib.get_bastion_username()\n",
    "\n",
    "node_conf = [\n",
    " {'name': \"romeo\",   'cores': 2, 'ram': 4, 'disk': 10, 'image': 'default_ubuntu_22', 'packages': [], host=\"eduky-w1.fabric-testbed.net\"}, \n",
    " {'name': \"juliet\",  'cores': 2, 'ram': 4, 'disk': 10, 'image': 'default_ubuntu_22', 'packages': [], host=\"eduky-w1.fabric-testbed.net\"}, \n",
    " {'name': \"hamlet\",  'cores': 2, 'ram': 4, 'disk': 10, 'image': 'default_ubuntu_22', 'packages': [], host=\"eduky-w1.fabric-testbed.net\"},\n",
    " {'name': \"ophelia\", 'cores': 2, 'ram': 4, 'disk': 10, 'image': 'default_ubuntu_22', 'packages': [], host=\"eduky-w1.fabric-testbed.net\"},\n",
    " {'name': \"bridge\",  'cores': 2, 'ram': 4, 'disk': 10, 'image': 'default_ubuntu_22', 'packages': [], host=\"eduky-w2.fabric-testbed.net\"}\n",
    "]\n",
    "net_conf = [\n",
    " {\"name\": \"net0\", \"subnet\": \"10.0.0.0/24\", \"nodes\": [{\"name\": \"romeo\",   \"addr\": \"10.0.0.100\"}, {\"name\": \"bridge\", \"addr\": \"0.0.0.0\"}]},\n",
    " {\"name\": \"net1\", \"subnet\": \"10.0.0.0/24\", \"nodes\": [{\"name\": \"juliet\",  \"addr\": \"10.0.0.101\"}, {\"name\": \"bridge\", \"addr\": \"0.0.0.0\"}]},\n",
    " {\"name\": \"net2\", \"subnet\": \"10.0.0.0/24\", \"nodes\": [{\"name\": \"hamlet\",  \"addr\": \"10.0.0.102\"}, {\"name\": \"bridge\", \"addr\": \"0.0.0.0\"}]},\n",
    " {\"name\": \"net3\", \"subnet\": \"10.0.0.0/24\", \"nodes\": [{\"name\": \"ophelia\", \"addr\": \"10.0.0.103\"}, {\"name\": \"bridge\", \"addr\": \"0.0.0.0\"}]}\n",
    "]\n",
    "route_conf = []\n",
    "\n",
    "exp_conf = {'cores': sum([ n['cores'] for n in node_conf]), 'nic': sum([len(n['nodes']) for n in net_conf]) }"
   ],
   "id": "6222dbf2-a226-4ba6-b3c6-bdae11a9009e"
  },
  {
   "cell_type": "markdown",
   "metadata": {},
   "source": [
    "### Reserve resources\n",
    "\n",
    "Now, we are ready to reserve resources!"
   ],
   "id": "b8912292-2d14-434a-a9f0-55596aae141d"
  },
  {
   "cell_type": "markdown",
   "metadata": {},
   "source": [
    "First, make sure you don’t already have a slice with this name:"
   ],
   "id": "e29765ea-a4e9-4a43-8866-f71ab87a2519"
  },
  {
   "cell_type": "code",
   "execution_count": null,
   "metadata": {},
   "outputs": [],
   "source": [
    "try:\n",
    "    slice = fablib.get_slice(slice_name)\n",
    "    print(\"You already have a slice by this name!\")\n",
    "    print(\"If you previously reserved resources, skip to the 'log in to resources' section.\")\n",
    "except:\n",
    "    print(\"You don't have a slice named %s yet.\" % slice_name)\n",
    "    print(\"Continue to the next step to make one.\")\n",
    "    slice = fablib.new_slice(name=slice_name)"
   ],
   "id": "dba47bcc-2037-4448-a1c2-94455426c8ad"
  },
  {
   "cell_type": "markdown",
   "metadata": {},
   "source": [
    "We will reserve resources for our experiment at the EDUKY site:"
   ],
   "id": "d5ff722c-97f4-4584-98a7-0313db7f3cb0"
  },
  {
   "cell_type": "code",
   "execution_count": null,
   "metadata": {},
   "outputs": [],
   "source": [
    "site_name = 'EDUKY'\n",
    "fablib.show_site(site_name)"
   ],
   "id": "9f0a8200-bf7d-49f4-ae0f-652358b1a56c"
  },
  {
   "cell_type": "markdown",
   "metadata": {},
   "source": [
    "Then we will add hosts and network segments:"
   ],
   "id": "0896ca4e-fb6d-4108-9601-5e79229dca90"
  },
  {
   "cell_type": "code",
   "execution_count": null,
   "metadata": {},
   "outputs": [],
   "source": [
    "# this cell sets up the nodes\n",
    "for n in node_conf:\n",
    "    slice.add_node(name=n['name'], site=site_name, \n",
    "                   cores=n['cores'], \n",
    "                   ram=n['ram'], \n",
    "                   disk=n['disk'], \n",
    "                   image=n['image'])"
   ],
   "id": "c8e6afaa-1eec-4b0e-a4bc-eb24015d3ea9"
  },
  {
   "cell_type": "code",
   "execution_count": null,
   "metadata": {},
   "outputs": [],
   "source": [
    "# this cell sets up the network segments\n",
    "for n in net_conf:\n",
    "    ifaces = [slice.get_node(node[\"name\"]).add_component(model=\"NIC_Basic\", \n",
    "                                                 name=n[\"name\"]).get_interfaces()[0] for node in n['nodes'] ]\n",
    "    slice.add_l2network(name=n[\"name\"], type='L2Bridge', interfaces=ifaces)"
   ],
   "id": "b31e6331-ce61-4fd0-9706-f533476e34dc"
  },
  {
   "cell_type": "markdown",
   "metadata": {},
   "source": [
    "The following cell submits our request to the FABRIC site. The output of this cell will update automatically as the status of our request changes.\n",
    "\n",
    "-   While it is being prepared, the “State” of the slice will appear as “Configuring”.\n",
    "-   When it is ready, the “State” of the slice will change to “StableOK”.\n",
    "\n",
    "You may prefer to walk away and come back in a few minutes (for simple slices) or a few tens of minutes (for more complicated slices with many resources)."
   ],
   "id": "8f2bd8cd-d574-43dc-a485-916a68301acf"
  },
  {
   "cell_type": "code",
   "execution_count": null,
   "metadata": {},
   "outputs": [],
   "source": [
    "slice.submit()"
   ],
   "id": "091dd37b-5926-4c21-bfb3-47b1cd7e0a2b"
  },
  {
   "cell_type": "code",
   "execution_count": null,
   "metadata": {},
   "outputs": [],
   "source": [
    "slice.get_state()\n",
    "slice.wait_ssh(progress=True)"
   ],
   "id": "3e5c7a3d-d365-4122-8142-5649e119f2e9"
  },
  {
   "cell_type": "markdown",
   "metadata": {},
   "source": [
    "### Configure resources\n",
    "\n",
    "Next, we will configure the resources so they are ready to use."
   ],
   "id": "f13b55d1-b93a-4b59-82b7-4ba907172c44"
  },
  {
   "cell_type": "code",
   "execution_count": null,
   "metadata": {},
   "outputs": [],
   "source": [
    "slice = fablib.get_slice(name=slice_name)"
   ],
   "id": "d350be8a-c4fb-4c73-92f9-812afc95c45f"
  },
  {
   "cell_type": "code",
   "execution_count": null,
   "metadata": {},
   "outputs": [],
   "source": [
    "# install packages\n",
    "# this will take a while and will run in background while you do other steps\n",
    "for n in node_conf:\n",
    "    if len(n['packages']):\n",
    "        node = slice.get_node(n['name'])\n",
    "        pkg = \" \".join(n['packages'])\n",
    "        node.execute_thread(\"sudo apt update; sudo DEBIAN_FRONTEND=noninteractive apt -y install %s\" % pkg)"
   ],
   "id": "6e25be95-19e4-465b-9c87-3694647475ee"
  },
  {
   "cell_type": "code",
   "execution_count": null,
   "metadata": {},
   "outputs": [],
   "source": [
    "# bring interfaces up and either assign an address (if there is one) or flush address\n",
    "from ipaddress import ip_address, IPv4Address, IPv4Network\n",
    "\n",
    "for net in net_conf:\n",
    "    for n in net['nodes']:\n",
    "        if_name = n['name'] + '-' + net['name'] + '-p1'\n",
    "        iface = slice.get_interface(if_name)\n",
    "        iface.ip_link_up()\n",
    "        if n['addr']:\n",
    "            iface.ip_addr_add(addr=n['addr'], subnet=IPv4Network(net['subnet']))\n",
    "        else:\n",
    "            iface.get_node().execute(\"sudo ip addr flush dev %s\"  % iface.get_device_name())"
   ],
   "id": "85436138-a0c3-417f-a7ad-65fb59ece387"
  },
  {
   "cell_type": "code",
   "execution_count": null,
   "metadata": {},
   "outputs": [],
   "source": [
    "# make sure all interfaces are brought up\n",
    "for iface in slice.get_interfaces():\n",
    "    iface.ip_link_up()"
   ],
   "id": "ee66703d-c2c7-411b-9a51-30f3c2bcc249"
  },
  {
   "cell_type": "code",
   "execution_count": null,
   "metadata": {},
   "outputs": [],
   "source": [
    "# prepare a \"hosts\" file that has names and addresses of every node\n",
    "hosts_txt = [ \"%s\\t%s\" % ( n['addr'], n['name'] ) for net in net_conf  for n in net['nodes'] if type(n) is dict and n['addr']]\n",
    "for n in slice.get_nodes():\n",
    "    for h in hosts_txt:\n",
    "        n.execute(\"echo %s | sudo tee -a /etc/hosts\" % h)"
   ],
   "id": "0b33fba0-077c-47bf-8f61-c252b18b8a4f"
  },
  {
   "cell_type": "code",
   "execution_count": null,
   "metadata": {},
   "outputs": [],
   "source": [
    "# enable IPv4 forwarding on all nodes\n",
    "for n in slice.get_nodes():\n",
    "    n.execute(\"sudo sysctl -w net.ipv4.ip_forward=1\")"
   ],
   "id": "e45caa6e-f31c-4a67-8948-11a74842ae99"
  },
  {
   "cell_type": "code",
   "execution_count": null,
   "metadata": {},
   "outputs": [],
   "source": [
    "# set up static routes\n",
    "for rt in route_conf:\n",
    "    for n in rt['nodes']:\n",
    "        slice.get_node(name=n).ip_route_add(subnet=IPv4Network(rt['addr']), gateway=rt['gw'])"
   ],
   "id": "deb97e99-06fb-407f-84b7-c0f71ca4c22b"
  },
  {
   "cell_type": "code",
   "execution_count": null,
   "metadata": {},
   "outputs": [],
   "source": [
    "# turn off segmentation offload on interfaces\n",
    "for iface in slice.get_interfaces():\n",
    "    iface_name = iface.get_device_name()\n",
    "    n = iface.get_node()\n",
    "    offloads = [\"gro\", \"lro\", \"gso\", \"tso\"]\n",
    "    for offload in offloads:\n",
    "        n.execute(\"sudo ethtool -K %s %s off\" % (iface_name, offload))"
   ],
   "id": "539d7fed-a6c5-4388-ae79-8fc5b7846d6e"
  },
  {
   "cell_type": "markdown",
   "metadata": {},
   "source": [
    "### Draw the network topology"
   ],
   "id": "eee73718-5cf2-46fd-8c9c-da0aaf3af7ac"
  },
  {
   "cell_type": "markdown",
   "metadata": {},
   "source": [
    "The following cell will draw the network topology, for your reference. The interface name and addresses of each experiment interface will be shown on the drawing."
   ],
   "id": "15c78eab-3b8a-4e7f-909c-e4ab54d30831"
  },
  {
   "cell_type": "code",
   "execution_count": null,
   "metadata": {},
   "outputs": [],
   "source": [
    "l2_nets = [(n.get_name(), {'color': 'lavender'}) for n in slice.get_l2networks() ]\n",
    "l3_nets = [(n.get_name(), {'color': 'pink'}) for n in slice.get_l3networks() ]\n",
    "hosts   =   [(n.get_name(), {'color': 'lightblue'}) for n in slice.get_nodes()]\n",
    "nodes = l2_nets + l3_nets + hosts\n",
    "ifaces = [iface.toDict() for iface in slice.get_interfaces()]\n",
    "edges = [(iface['network'], iface['node'], \n",
    "          {'label': iface['physical_dev'] + '\\n' + iface['ip_addr'] + '\\n' + iface['mac']}) for iface in ifaces]"
   ],
   "id": "55926ee1-0f65-44c0-8bb3-784bb20462d2"
  },
  {
   "cell_type": "code",
   "execution_count": null,
   "metadata": {},
   "outputs": [],
   "source": [
    "import networkx as nx\n",
    "import matplotlib.pyplot as plt\n",
    "plt.figure(figsize=(len(nodes),len(nodes)))\n",
    "G = nx.Graph()\n",
    "G.add_nodes_from(nodes)\n",
    "G.add_edges_from(edges)\n",
    "pos = nx.spring_layout(G)\n",
    "nx.draw(G, pos, node_shape='s',  \n",
    "        node_color=[n[1]['color'] for n in nodes], \n",
    "        node_size=[len(n[0])*400 for n in nodes],  \n",
    "        with_labels=True);\n",
    "nx.draw_networkx_edge_labels(G,pos,\n",
    "                             edge_labels=nx.get_edge_attributes(G,'label'),\n",
    "                             font_color='gray',  font_size=8, rotate=False);"
   ],
   "id": "e75d54ec-6205-49d0-9769-e424f2f958e8"
  },
  {
   "cell_type": "markdown",
   "metadata": {},
   "source": [
    "### Log into resources"
   ],
   "id": "8f5e3702-38cf-4e7b-afe5-262f5e3202ca"
  },
  {
   "cell_type": "markdown",
   "metadata": {},
   "source": [
    "Now, we are finally ready to log in to our resources over SSH! Run the following cells, and observe the table output - you will see an SSH command for each of the resources in your topology."
   ],
   "id": "7cddf349-fc5b-405e-8082-ab397085dc08"
  },
  {
   "cell_type": "code",
   "execution_count": null,
   "metadata": {},
   "outputs": [],
   "source": [
    "import pandas as pd\n",
    "pd.set_option('display.max_colwidth', None)\n",
    "slice_info = [{'Name': n.get_name(), 'SSH command': n.get_ssh_command()} for n in slice.get_nodes()]\n",
    "pd.DataFrame(slice_info).set_index('Name')"
   ],
   "id": "ec7b3f76-e6e3-4254-ae18-246b0d7f65cd"
  },
  {
   "cell_type": "markdown",
   "metadata": {},
   "source": [
    "Now, you can open an SSH session on any of the resources as follows:\n",
    "\n",
    "-   in Jupyter, from the menu bar, use File \\> New \\> Terminal to open a new terminal.\n",
    "-   copy an SSH command from the table, and paste it into the terminal. (Note that each SSH command is a single line, even if the display wraps the text to a second line! When you copy and paste it, paste it all together.)\n",
    "\n",
    "You can repeat this process (open several terminals) to start a session on each resource. Each terminal session will have a tab in the Jupyter environment, so that you can easily switch between them."
   ],
   "id": "bcbada1b-82f1-440b-b7a4-00dcf04243cf"
  },
  {
   "cell_type": "markdown",
   "metadata": {},
   "source": [
    "### Delete your slice"
   ],
   "id": "bbfcd25f-6354-4a0d-9ae9-b12212ac6332"
  },
  {
   "cell_type": "markdown",
   "metadata": {},
   "source": [
    "When you finish your experiment, you should delete your slice! The following cells deletes all the resources in your slice, freeing them for other experimenters."
   ],
   "id": "0a01594e-c09a-4938-8883-0415e3a3d941"
  },
  {
   "cell_type": "code",
   "execution_count": null,
   "metadata": {},
   "outputs": [],
   "source": [
    "slice = fablib.get_slice(name=slice_name)\n",
    "fablib.delete_slice(slice_name)"
   ],
   "id": "8f1d3e00-0a8b-49e3-8a9a-97fdcac84d89"
  },
  {
   "cell_type": "code",
   "execution_count": null,
   "metadata": {},
   "outputs": [],
   "source": [
    "# slice should end up in \"Dead\" state\n",
    "# re-run this cell until you see it in \"Dead\" state\n",
    "slice.update()\n",
    "_ = slice.show()"
   ],
   "id": "5b7a0c9d-4a36-428d-9316-db883e2f9e0f"
  }
 ],
 "nbformat": 4,
 "nbformat_minor": 5,
 "metadata": {}
}
