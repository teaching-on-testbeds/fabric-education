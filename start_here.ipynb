{
 "cells": [
  {
   "cell_type": "markdown",
   "metadata": {},
   "source": [
    "# Static routing within and between IPv4 networks"
   ],
   "id": "c65fb777-5142-41c1-848d-e231a2072534"
  },
  {
   "cell_type": "markdown",
   "metadata": {},
   "source": [
    "In these exercises, you will observe how routing principles apply when packets are forwarded by a router from one network segment to the next."
   ],
   "id": "b76bbc04-5016-4485-a156-807ccf4cf742"
  },
  {
   "cell_type": "markdown",
   "metadata": {},
   "source": [
    "In this notebook you will:\n",
    "\n",
    "-   Reserve resources for this experiment\n",
    "-   Configure your reserved resources\n",
    "-   Access your reserved resources over SSH\n",
    "\n",
    "Then you will run the experiment at [Static routing within and between IPv4 networks](https://witestlab.poly.edu/blog/static-routing/).\n",
    "\n",
    "Finally, you will\n",
    "\n",
    "-   Delete your resources when you are finished"
   ],
   "id": "9d325c94-3bdd-44d6-a91a-b6cc23b6e30d"
  },
  {
   "cell_type": "markdown",
   "metadata": {},
   "source": [
    "To *execute* the experiment, you will follow the instructions at: https://witestlab.poly.edu/blog/static-routing/"
   ],
   "id": "a4e283bf-6ee0-4e40-ba17-bd0244825416"
  },
  {
   "cell_type": "markdown",
   "metadata": {},
   "source": [
    "### Configure environment"
   ],
   "id": "2d7cbd2b-0ef1-40fd-8b9b-bed53f43862c"
  },
  {
   "cell_type": "code",
   "execution_count": null,
   "metadata": {},
   "outputs": [],
   "source": [
    "from fabrictestbed_extensions.fablib.fablib import FablibManager as fablib_manager\n",
    "fablib = fablib_manager() \n",
    "conf = fablib.show_config()"
   ],
   "id": "77b971e7-8a29-498b-b15c-c40410a8950d"
  },
  {
   "cell_type": "markdown",
   "metadata": {},
   "source": [
    "### Define configuration for this experiment (two hosts and router in line topology)"
   ],
   "id": "e1829da7-3bc1-4b19-a32a-e4bee48de2cf"
  },
  {
   "cell_type": "code",
   "execution_count": null,
   "metadata": {},
   "outputs": [],
   "source": [
    "slice_name=\"static_routing-\" + fablib.get_bastion_username()\n",
    "\n",
    "node_conf = [\n",
    " {'name': \"romeo\",   'cores': 1, 'ram': 2, 'disk': 10, 'image': 'default_ubuntu_22', 'packages': []}, \n",
    " {'name': \"juliet\",  'cores': 1, 'ram': 2, 'disk': 10, 'image': 'default_ubuntu_22', 'packages': []}, \n",
    " {'name': \"hamlet\",  'cores': 1, 'ram': 2, 'disk': 10, 'image': 'default_ubuntu_22', 'packages': []},\n",
    " {'name': \"ophelia\", 'cores': 1, 'ram': 2, 'disk': 10, 'image': 'default_ubuntu_22', 'packages': []},\n",
    " {'name': \"router-1\",'cores': 1, 'ram': 2, 'disk': 10, 'image': 'default_ubuntu_22', 'packages': []},\n",
    " {'name': \"router-2\",'cores': 1, 'ram': 2, 'disk': 10, 'image': 'default_ubuntu_22', 'packages': []},\n",
    " {'name': \"router-3\",'cores': 1, 'ram': 2, 'disk': 10, 'image': 'default_ubuntu_22', 'packages': []},\n",
    " {'name': \"othello\", 'cores': 1, 'ram': 2, 'disk': 10, 'image': 'default_ubuntu_22', 'packages': []},\n",
    "\n",
    "]\n",
    "net_conf = [\n",
    " {\"name\": \"net-red\", \"subnet\": \"10.10.0/24\", \"nodes\": [{\"name\": \"romeo\",   \"addr\": \"10.10.0.100\"}, {\"name\": \"juliet\",   \"addr\": \"10.10.0.101\"}, {\"name\": \"hamlet\",   \"addr\": \"10.10.0.102\"}, {\"name\": \"ophelia\",   \"addr\": \"10.10.0.103\"}, {\"name\": \"router-1\", \"addr\": \"10.10.0.1\"}]},\n",
    " {\"name\": \"net-blue\", \"subnet\": \"10.10.100.0/24\", \"nodes\": [{\"name\": \"router-1\",  \"addr\": \"10.10.100.1\"}, {\"name\": \"router-2\", \"addr\": \"10.10.100.2\"}, {\"name\": \"router-3\", \"addr\": \"10.10.100.3\"}]},\n",
    " {\"name\": \"net-green\", \"subnet\": \"10.10.1.0/24\", \"nodes\": [{\"name\": \"router-2\", \"addr\": \"10.10.1.1\"}, {\"name\": \"othello\", \"addr\": \"10.10.1.104\"}]},\n",
    " {\"name\": \"net-purple\", \"subnet\": \"10.10.2.0/24\", \"nodes\": [{\"name\": \"router-3\", \"addr\": \"10.10.2.1\"}, {\"name\": \"othello\", \"addr\": \"10.10.2.104\"}]}\n",
    "]\n",
    "route_conf = []\n",
    "exp_conf = {'cores': sum([ n['cores'] for n in node_conf]), 'nic': sum([len(n['nodes']) for n in net_conf]) }"
   ],
   "id": "ba55d5ea-748c-44d2-8e80-a27669a90062"
  },
  {
   "cell_type": "markdown",
   "metadata": {},
   "source": [
    "### Reserve resources\n",
    "\n",
    "Now, we are ready to reserve resources!"
   ],
   "id": "3114cbeb-3d90-4167-b618-a51a913da3cc"
  },
  {
   "cell_type": "markdown",
   "metadata": {},
   "source": [
    "First, make sure you don’t already have a slice with this name:"
   ],
   "id": "dc2d5d16-c181-424c-a9f5-4466fb059193"
  },
  {
   "cell_type": "code",
   "execution_count": null,
   "metadata": {},
   "outputs": [],
   "source": [
    "try:\n",
    "    slice = fablib.get_slice(slice_name)\n",
    "    print(\"You already have a slice by this name!\")\n",
    "    print(\"If you previously reserved resources, skip to the 'log in to resources' section.\")\n",
    "except:\n",
    "    print(\"You don't have a slice named %s yet.\" % slice_name)\n",
    "    print(\"Continue to the next step to make one.\")\n",
    "    slice = fablib.new_slice(name=slice_name)"
   ],
   "id": "a3b15ae5-eb97-4d3a-8714-aea2278627d8"
  },
  {
   "cell_type": "markdown",
   "metadata": {},
   "source": [
    "We will reserve resources for our experiment at the EDUKY site:"
   ],
   "id": "a6f724c2-a661-4eb8-b95b-73c53d389617"
  },
  {
   "cell_type": "code",
   "execution_count": null,
   "metadata": {},
   "outputs": [],
   "source": [
    "site_name = 'EDUKY'\n",
    "fablib.show_site(site_name)"
   ],
   "id": "d0ee9853-d768-4dcd-a7c1-bebb2359a719"
  },
  {
   "cell_type": "markdown",
   "metadata": {},
   "source": [
    "Then we will add hosts and network segments:"
   ],
   "id": "8c80fafe-79de-47fa-8edd-c31b3847747f"
  },
  {
   "cell_type": "code",
   "execution_count": null,
   "metadata": {},
   "outputs": [],
   "source": [
    "# this cell sets up the nodes\n",
    "for n in node_conf:\n",
    "    slice.add_node(name=n['name'], site=site_name, \n",
    "                   cores=n['cores'], \n",
    "                   ram=n['ram'], \n",
    "                   disk=n['disk'], \n",
    "                   image=n['image'])"
   ],
   "id": "442fde14-3c04-4d0e-a813-0097c31558b1"
  },
  {
   "cell_type": "code",
   "execution_count": null,
   "metadata": {},
   "outputs": [],
   "source": [
    "# this cell sets up the network segments\n",
    "for n in net_conf:\n",
    "    ifaces = [slice.get_node(node[\"name\"]).add_component(model=\"NIC_Basic\", \n",
    "                                                 name=n[\"name\"]).get_interfaces()[0] for node in n['nodes'] ]\n",
    "    slice.add_l2network(name=n[\"name\"], type='L2Bridge', interfaces=ifaces)"
   ],
   "id": "c0698c0a-189a-49dd-97c6-6fd4988e7ce4"
  },
  {
   "cell_type": "markdown",
   "metadata": {},
   "source": [
    "The following cell submits our request to the FABRIC site. The output of this cell will update automatically as the status of our request changes.\n",
    "\n",
    "-   While it is being prepared, the “State” of the slice will appear as “Configuring”.\n",
    "-   When it is ready, the “State” of the slice will change to “StableOK”.\n",
    "\n",
    "You may prefer to walk away and come back in a few minutes (for simple slices) or a few tens of minutes (for more complicated slices with many resources)."
   ],
   "id": "a2426b2c-1ff7-4627-b92e-3aeb0c3e7466"
  },
  {
   "cell_type": "code",
   "execution_count": null,
   "metadata": {},
   "outputs": [],
   "source": [
    "slice.submit()"
   ],
   "id": "06d69bea-14d2-4349-ae61-5c6da1b5eaf7"
  },
  {
   "cell_type": "code",
   "execution_count": null,
   "metadata": {},
   "outputs": [],
   "source": [
    "slice.get_state()\n",
    "slice.wait_ssh(progress=True)"
   ],
   "id": "efc02622-8fa7-4b88-8bbb-d0f90c09a8fe"
  },
  {
   "cell_type": "markdown",
   "metadata": {},
   "source": [
    "### Configure resources\n",
    "\n",
    "Next, we will configure the resources so they are ready to use."
   ],
   "id": "17954b8c-31ea-49b7-a6b7-0edcdcd7491c"
  },
  {
   "cell_type": "code",
   "execution_count": null,
   "metadata": {},
   "outputs": [],
   "source": [
    "slice = fablib.get_slice(name=slice_name)"
   ],
   "id": "22ec7578-50a5-476c-8fab-62cf56652b27"
  },
  {
   "cell_type": "code",
   "execution_count": null,
   "metadata": {},
   "outputs": [],
   "source": [
    "# install packages\n",
    "# this will take a while and will run in background while you do other steps\n",
    "for n in node_conf:\n",
    "    if len(n['packages']):\n",
    "        node = slice.get_node(n['name'])\n",
    "        pkg = \" \".join(n['packages'])\n",
    "        node.execute_thread(\"sudo apt update; sudo DEBIAN_FRONTEND=noninteractive apt -y install %s\" % pkg)"
   ],
   "id": "b2ee3edb-2bac-4d2e-b6ae-7fbdc50c6166"
  },
  {
   "cell_type": "code",
   "execution_count": null,
   "metadata": {},
   "outputs": [],
   "source": [
    "# bring interfaces up and either assign an address (if there is one) or flush address\n",
    "from ipaddress import ip_address, IPv4Address, IPv4Network\n",
    "\n",
    "for net in net_conf:\n",
    "    for n in net['nodes']:\n",
    "        if_name = n['name'] + '-' + net['name'] + '-p1'\n",
    "        iface = slice.get_interface(if_name)\n",
    "        iface.ip_link_up()\n",
    "        if n['addr']:\n",
    "            iface.ip_addr_add(addr=n['addr'], subnet=IPv4Network(net['subnet']))\n",
    "        else:\n",
    "            iface.get_node().execute(\"sudo ip addr flush dev %s\"  % iface.get_device_name())"
   ],
   "id": "67ca92bc-9f57-45ba-ac96-898ea23f7f42"
  },
  {
   "cell_type": "code",
   "execution_count": null,
   "metadata": {},
   "outputs": [],
   "source": [
    "# make sure all interfaces are brought up\n",
    "for iface in slice.get_interfaces():\n",
    "    iface.ip_link_up()"
   ],
   "id": "925f93cc-7a88-4f49-abde-d2923a742d83"
  },
  {
   "cell_type": "code",
   "execution_count": null,
   "metadata": {},
   "outputs": [],
   "source": [
    "# prepare a \"hosts\" file that has names and addresses of every node\n",
    "hosts_txt = [ \"%s\\t%s\" % ( n['addr'], n['name'] ) for net in net_conf  for n in net['nodes'] if type(n) is dict and n['addr']]\n",
    "for n in slice.get_nodes():\n",
    "    for h in hosts_txt:\n",
    "        n.execute(\"echo %s | sudo tee -a /etc/hosts\" % h)"
   ],
   "id": "363b4643-bdd6-4bd9-8982-6e85e3bd30fe"
  },
  {
   "cell_type": "code",
   "execution_count": null,
   "metadata": {},
   "outputs": [],
   "source": [
    "# enable IPv4 forwarding on all nodes\n",
    "for n in slice.get_nodes():\n",
    "    n.execute(\"sudo sysctl -w net.ipv4.ip_forward=1\")"
   ],
   "id": "5cb305f8-b04b-469e-b4bb-3c6cc0786438"
  },
  {
   "cell_type": "code",
   "execution_count": null,
   "metadata": {},
   "outputs": [],
   "source": [
    "# set up static routes\n",
    "for rt in route_conf:\n",
    "    for n in rt['nodes']:\n",
    "        slice.get_node(name=n).ip_route_add(subnet=IPv4Network(rt['addr']), gateway=rt['gw'])"
   ],
   "id": "5d448478-aece-4c37-9caa-dea751b84673"
  },
  {
   "cell_type": "code",
   "execution_count": null,
   "metadata": {},
   "outputs": [],
   "source": [
    "# turn off segmentation offload on interfaces\n",
    "for iface in slice.get_interfaces():\n",
    "    iface_name = iface.get_device_name()\n",
    "    n = iface.get_node()\n",
    "    offloads = [\"gro\", \"lro\", \"gso\", \"tso\"]\n",
    "    for offload in offloads:\n",
    "        n.execute(\"sudo ethtool -K %s %s off\" % (iface_name, offload))"
   ],
   "id": "1de0f3d8-6595-4444-8705-68709dad969a"
  },
  {
   "cell_type": "markdown",
   "metadata": {},
   "source": [
    "### Draw the network topology"
   ],
   "id": "63968879-d8d7-43d4-9e74-3304e3eaa4c5"
  },
  {
   "cell_type": "markdown",
   "metadata": {},
   "source": [
    "The following cell will draw the network topology, for your reference. The interface name and addresses of each experiment interface will be shown on the drawing."
   ],
   "id": "6ba3ecd8-26d1-467c-94d5-391af39b3d48"
  },
  {
   "cell_type": "code",
   "execution_count": null,
   "metadata": {},
   "outputs": [],
   "source": [
    "l2_nets = [(n.get_name(), {'color': 'lavender'}) for n in slice.get_l2networks() ]\n",
    "l3_nets = [(n.get_name(), {'color': 'pink'}) for n in slice.get_l3networks() ]\n",
    "hosts   =   [(n.get_name(), {'color': 'lightblue'}) for n in slice.get_nodes()]\n",
    "nodes = l2_nets + l3_nets + hosts\n",
    "ifaces = [iface.toDict() for iface in slice.get_interfaces()]\n",
    "edges = [(iface['network'], iface['node'], \n",
    "          {'label': iface['physical_dev'] + '\\n' + iface['ip_addr'] + '\\n' + iface['mac']}) for iface in ifaces]"
   ],
   "id": "78f84141-d042-483a-bc68-5598b653aa74"
  },
  {
   "cell_type": "code",
   "execution_count": null,
   "metadata": {},
   "outputs": [],
   "source": [
    "import networkx as nx\n",
    "import matplotlib.pyplot as plt\n",
    "plt.figure(figsize=(len(nodes),len(nodes)))\n",
    "G = nx.Graph()\n",
    "G.add_nodes_from(nodes)\n",
    "G.add_edges_from(edges)\n",
    "pos = nx.spring_layout(G)\n",
    "nx.draw(G, pos, node_shape='s',  \n",
    "        node_color=[n[1]['color'] for n in nodes], \n",
    "        node_size=[len(n[0])*400 for n in nodes],  \n",
    "        with_labels=True);\n",
    "nx.draw_networkx_edge_labels(G,pos,\n",
    "                             edge_labels=nx.get_edge_attributes(G,'label'),\n",
    "                             font_color='gray',  font_size=8, rotate=False);"
   ],
   "id": "44fea851-0003-46ce-a70e-cae63f5e1493"
  },
  {
   "cell_type": "markdown",
   "metadata": {},
   "source": [
    "### Log into resources"
   ],
   "id": "77e48e9b-40f1-4a4b-9d8e-d985d3ab6594"
  },
  {
   "cell_type": "markdown",
   "metadata": {},
   "source": [
    "Now, we are finally ready to log in to our resources over SSH! Run the following cells, and observe the table output - you will see an SSH command for each of the resources in your topology."
   ],
   "id": "4217688f-50d4-49b8-98ca-6038157a5b23"
  },
  {
   "cell_type": "code",
   "execution_count": null,
   "metadata": {},
   "outputs": [],
   "source": [
    "import pandas as pd\n",
    "pd.set_option('display.max_colwidth', None)\n",
    "slice_info = [{'Name': n.get_name(), 'SSH command': n.get_ssh_command()} for n in slice.get_nodes()]\n",
    "pd.DataFrame(slice_info).set_index('Name')"
   ],
   "id": "c6196f7e-6221-4f27-936b-ab7bf74157fa"
  },
  {
   "cell_type": "markdown",
   "metadata": {},
   "source": [
    "Now, you can open an SSH session on any of the resources as follows:\n",
    "\n",
    "-   in Jupyter, from the menu bar, use File \\> New \\> Terminal to open a new terminal.\n",
    "-   copy an SSH command from the table, and paste it into the terminal. (Note that each SSH command is a single line, even if the display wraps the text to a second line! When you copy and paste it, paste it all together.)\n",
    "\n",
    "You can repeat this process (open several terminals) to start a session on each resource. Each terminal session will have a tab in the Jupyter environment, so that you can easily switch between them."
   ],
   "id": "e6f9b3f8-69b1-4f0d-b8f5-30c832843a7a"
  },
  {
   "cell_type": "markdown",
   "metadata": {},
   "source": [
    "### Delete your slice"
   ],
   "id": "bb9455e5-435c-49ac-921d-d21fb558ff8c"
  },
  {
   "cell_type": "markdown",
   "metadata": {},
   "source": [
    "When you finish your experiment, you should delete your slice! The following cells deletes all the resources in your slice, freeing them for other experimenters."
   ],
   "id": "8d37ea85-321a-4df3-b710-9e4d0bd9cec4"
  },
  {
   "cell_type": "code",
   "execution_count": null,
   "metadata": {},
   "outputs": [],
   "source": [
    "slice = fablib.get_slice(name=slice_name)\n",
    "fablib.delete_slice(slice_name)"
   ],
   "id": "f4eaeb96-38bc-4196-894a-ef273ef6d9b7"
  },
  {
   "cell_type": "code",
   "execution_count": null,
   "metadata": {},
   "outputs": [],
   "source": [
    "# slice should end up in \"Dead\" state\n",
    "# re-run this cell until you see it in \"Dead\" state\n",
    "slice.update()\n",
    "_ = slice.show()"
   ],
   "id": "7f595d12-2791-4abf-9530-a3c561ec54b7"
  }
 ],
 "nbformat": 4,
 "nbformat_minor": 5,
 "metadata": {}
}
